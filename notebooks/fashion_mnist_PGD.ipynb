{
  "nbformat": 4,
  "nbformat_minor": 0,
  "metadata": {
    "colab": {
      "provenance": [],
      "authorship_tag": "ABX9TyNYWEhdHQMbVZv8Xh3Ys03i",
      "include_colab_link": true
    },
    "kernelspec": {
      "name": "python3",
      "display_name": "Python 3"
    },
    "language_info": {
      "name": "python"
    }
  },
  "cells": [
    {
      "cell_type": "markdown",
      "metadata": {
        "id": "view-in-github",
        "colab_type": "text"
      },
      "source": [
        "<a href=\"https://colab.research.google.com/github/malienist/FIRST-JP/blob/main/notebooks/fashion_mnist_PGD.ipynb\" target=\"_parent\"><img src=\"https://colab.research.google.com/assets/colab-badge.svg\" alt=\"Open In Colab\"/></a>"
      ]
    },
    {
      "cell_type": "markdown",
      "source": [
        "# Adversarial Attack on Fashion-MNIST using CleverHans\n",
        "\n",
        "Welcome to this Colab notebook where we will demonstrate how to perform an adversarial attack on the Fashion-MNIST dataset using the CleverHans library. This notebook will guide you through the process of training a simple Convolutional Neural Network (CNN) model, saving it, and then generating adversarial examples using the Projected Gradient Descent (PGD) method.\n",
        "\n",
        "## Objectives\n",
        "1. **Train a Simple CNN Model**: We will start by defining and training a simple CNN on the Fashion-MNIST dataset to classify different types of clothing items.\n",
        "2. **Save the Trained Model**: After training the model, we will save its state for later use.\n",
        "3. **Generate Adversarial Examples**: Using the CleverHans library, we will apply the PGD attack to generate adversarial examples that can fool the trained model.\n",
        "4. **Visualize Results**: We will visualize the original images, adversarial images, and the perturbations applied to understand the impact of the attack.\n",
        "\n",
        "## Fashion-MNIST Dataset\n",
        "The Fashion-MNIST dataset consists of 70,000 grayscale images in 10 categories, with 7,000 images per category. The images show individual articles of clothing at low resolution (28x28 pixels).\n",
        "\n",
        "The 10 classes in the dataset are:\n",
        "- 0: T-shirt/top\n",
        "- 1: Trouser\n",
        "- 2: Pullover\n",
        "- 3: Dress\n",
        "- 4: Coat\n",
        "- 5: Sandal\n",
        "- 6: Shirt\n",
        "- 7: Sneaker\n",
        "- 8: Bag\n",
        "- 9: Ankle boot\n",
        "\n",
        "## Setup\n",
        "Before we begin, ensure you have the necessary libraries installed. You can install them using pip:\n",
        "\n",
        "```sh\n",
        "pip install cleverhans torch torchvision matplotlib\n"
      ],
      "metadata": {
        "id": "YXUKc0y09svi"
      }
    },
    {
      "cell_type": "code",
      "source": [
        "!pip install torch torchvision matplotlib numpy foolbox"
      ],
      "metadata": {
        "colab": {
          "base_uri": "https://localhost:8080/"
        },
        "id": "BUhXCE3fX628",
        "outputId": "e482c26d-ae15-4bbe-d96c-9813873daec4"
      },
      "execution_count": 1,
      "outputs": [
        {
          "output_type": "stream",
          "name": "stdout",
          "text": [
            "Requirement already satisfied: torch in /usr/local/lib/python3.10/dist-packages (2.3.0+cu121)\n",
            "Requirement already satisfied: torchvision in /usr/local/lib/python3.10/dist-packages (0.18.0+cu121)\n",
            "Requirement already satisfied: matplotlib in /usr/local/lib/python3.10/dist-packages (3.7.1)\n",
            "Requirement already satisfied: numpy in /usr/local/lib/python3.10/dist-packages (1.25.2)\n",
            "Collecting foolbox\n",
            "  Downloading foolbox-3.3.4-py3-none-any.whl (1.7 MB)\n",
            "\u001b[2K     \u001b[90m━━━━━━━━━━━━━━━━━━━━━━━━━━━━━━━━━━━━━━━━\u001b[0m \u001b[32m1.7/1.7 MB\u001b[0m \u001b[31m11.0 MB/s\u001b[0m eta \u001b[36m0:00:00\u001b[0m\n",
            "\u001b[?25hRequirement already satisfied: filelock in /usr/local/lib/python3.10/dist-packages (from torch) (3.14.0)\n",
            "Requirement already satisfied: typing-extensions>=4.8.0 in /usr/local/lib/python3.10/dist-packages (from torch) (4.12.1)\n",
            "Requirement already satisfied: sympy in /usr/local/lib/python3.10/dist-packages (from torch) (1.12.1)\n",
            "Requirement already satisfied: networkx in /usr/local/lib/python3.10/dist-packages (from torch) (3.3)\n",
            "Requirement already satisfied: jinja2 in /usr/local/lib/python3.10/dist-packages (from torch) (3.1.4)\n",
            "Requirement already satisfied: fsspec in /usr/local/lib/python3.10/dist-packages (from torch) (2023.6.0)\n",
            "Collecting nvidia-cuda-nvrtc-cu12==12.1.105 (from torch)\n",
            "  Using cached nvidia_cuda_nvrtc_cu12-12.1.105-py3-none-manylinux1_x86_64.whl (23.7 MB)\n",
            "Collecting nvidia-cuda-runtime-cu12==12.1.105 (from torch)\n",
            "  Using cached nvidia_cuda_runtime_cu12-12.1.105-py3-none-manylinux1_x86_64.whl (823 kB)\n",
            "Collecting nvidia-cuda-cupti-cu12==12.1.105 (from torch)\n",
            "  Using cached nvidia_cuda_cupti_cu12-12.1.105-py3-none-manylinux1_x86_64.whl (14.1 MB)\n",
            "Collecting nvidia-cudnn-cu12==8.9.2.26 (from torch)\n",
            "  Using cached nvidia_cudnn_cu12-8.9.2.26-py3-none-manylinux1_x86_64.whl (731.7 MB)\n",
            "Collecting nvidia-cublas-cu12==12.1.3.1 (from torch)\n",
            "  Using cached nvidia_cublas_cu12-12.1.3.1-py3-none-manylinux1_x86_64.whl (410.6 MB)\n",
            "Collecting nvidia-cufft-cu12==11.0.2.54 (from torch)\n",
            "  Using cached nvidia_cufft_cu12-11.0.2.54-py3-none-manylinux1_x86_64.whl (121.6 MB)\n",
            "Collecting nvidia-curand-cu12==10.3.2.106 (from torch)\n",
            "  Using cached nvidia_curand_cu12-10.3.2.106-py3-none-manylinux1_x86_64.whl (56.5 MB)\n",
            "Collecting nvidia-cusolver-cu12==11.4.5.107 (from torch)\n",
            "  Using cached nvidia_cusolver_cu12-11.4.5.107-py3-none-manylinux1_x86_64.whl (124.2 MB)\n",
            "Collecting nvidia-cusparse-cu12==12.1.0.106 (from torch)\n",
            "  Using cached nvidia_cusparse_cu12-12.1.0.106-py3-none-manylinux1_x86_64.whl (196.0 MB)\n",
            "Collecting nvidia-nccl-cu12==2.20.5 (from torch)\n",
            "  Using cached nvidia_nccl_cu12-2.20.5-py3-none-manylinux2014_x86_64.whl (176.2 MB)\n",
            "Collecting nvidia-nvtx-cu12==12.1.105 (from torch)\n",
            "  Using cached nvidia_nvtx_cu12-12.1.105-py3-none-manylinux1_x86_64.whl (99 kB)\n",
            "Requirement already satisfied: triton==2.3.0 in /usr/local/lib/python3.10/dist-packages (from torch) (2.3.0)\n",
            "Collecting nvidia-nvjitlink-cu12 (from nvidia-cusolver-cu12==11.4.5.107->torch)\n",
            "  Downloading nvidia_nvjitlink_cu12-12.5.40-py3-none-manylinux2014_x86_64.whl (21.3 MB)\n",
            "\u001b[2K     \u001b[90m━━━━━━━━━━━━━━━━━━━━━━━━━━━━━━━━━━━━━━━━\u001b[0m \u001b[32m21.3/21.3 MB\u001b[0m \u001b[31m64.3 MB/s\u001b[0m eta \u001b[36m0:00:00\u001b[0m\n",
            "\u001b[?25hRequirement already satisfied: pillow!=8.3.*,>=5.3.0 in /usr/local/lib/python3.10/dist-packages (from torchvision) (9.4.0)\n",
            "Requirement already satisfied: contourpy>=1.0.1 in /usr/local/lib/python3.10/dist-packages (from matplotlib) (1.2.1)\n",
            "Requirement already satisfied: cycler>=0.10 in /usr/local/lib/python3.10/dist-packages (from matplotlib) (0.12.1)\n",
            "Requirement already satisfied: fonttools>=4.22.0 in /usr/local/lib/python3.10/dist-packages (from matplotlib) (4.53.0)\n",
            "Requirement already satisfied: kiwisolver>=1.0.1 in /usr/local/lib/python3.10/dist-packages (from matplotlib) (1.4.5)\n",
            "Requirement already satisfied: packaging>=20.0 in /usr/local/lib/python3.10/dist-packages (from matplotlib) (24.0)\n",
            "Requirement already satisfied: pyparsing>=2.3.1 in /usr/local/lib/python3.10/dist-packages (from matplotlib) (3.1.2)\n",
            "Requirement already satisfied: python-dateutil>=2.7 in /usr/local/lib/python3.10/dist-packages (from matplotlib) (2.8.2)\n",
            "Requirement already satisfied: scipy in /usr/local/lib/python3.10/dist-packages (from foolbox) (1.11.4)\n",
            "Requirement already satisfied: setuptools in /usr/local/lib/python3.10/dist-packages (from foolbox) (67.7.2)\n",
            "Collecting eagerpy>=0.30.0 (from foolbox)\n",
            "  Downloading eagerpy-0.30.0-py3-none-any.whl (31 kB)\n",
            "Collecting GitPython>=3.0.7 (from foolbox)\n",
            "  Downloading GitPython-3.1.43-py3-none-any.whl (207 kB)\n",
            "\u001b[2K     \u001b[90m━━━━━━━━━━━━━━━━━━━━━━━━━━━━━━━━━━━━━━━━\u001b[0m \u001b[32m207.3/207.3 kB\u001b[0m \u001b[31m19.4 MB/s\u001b[0m eta \u001b[36m0:00:00\u001b[0m\n",
            "\u001b[?25hRequirement already satisfied: requests>=2.24.0 in /usr/local/lib/python3.10/dist-packages (from foolbox) (2.31.0)\n",
            "Collecting gitdb<5,>=4.0.1 (from GitPython>=3.0.7->foolbox)\n",
            "  Downloading gitdb-4.0.11-py3-none-any.whl (62 kB)\n",
            "\u001b[2K     \u001b[90m━━━━━━━━━━━━━━━━━━━━━━━━━━━━━━━━━━━━━━━━\u001b[0m \u001b[32m62.7/62.7 kB\u001b[0m \u001b[31m9.3 MB/s\u001b[0m eta \u001b[36m0:00:00\u001b[0m\n",
            "\u001b[?25hRequirement already satisfied: six>=1.5 in /usr/local/lib/python3.10/dist-packages (from python-dateutil>=2.7->matplotlib) (1.16.0)\n",
            "Requirement already satisfied: charset-normalizer<4,>=2 in /usr/local/lib/python3.10/dist-packages (from requests>=2.24.0->foolbox) (3.3.2)\n",
            "Requirement already satisfied: idna<4,>=2.5 in /usr/local/lib/python3.10/dist-packages (from requests>=2.24.0->foolbox) (3.7)\n",
            "Requirement already satisfied: urllib3<3,>=1.21.1 in /usr/local/lib/python3.10/dist-packages (from requests>=2.24.0->foolbox) (2.0.7)\n",
            "Requirement already satisfied: certifi>=2017.4.17 in /usr/local/lib/python3.10/dist-packages (from requests>=2.24.0->foolbox) (2024.6.2)\n",
            "Requirement already satisfied: MarkupSafe>=2.0 in /usr/local/lib/python3.10/dist-packages (from jinja2->torch) (2.1.5)\n",
            "Requirement already satisfied: mpmath<1.4.0,>=1.1.0 in /usr/local/lib/python3.10/dist-packages (from sympy->torch) (1.3.0)\n",
            "Collecting smmap<6,>=3.0.1 (from gitdb<5,>=4.0.1->GitPython>=3.0.7->foolbox)\n",
            "  Downloading smmap-5.0.1-py3-none-any.whl (24 kB)\n",
            "Installing collected packages: smmap, nvidia-nvtx-cu12, nvidia-nvjitlink-cu12, nvidia-nccl-cu12, nvidia-curand-cu12, nvidia-cufft-cu12, nvidia-cuda-runtime-cu12, nvidia-cuda-nvrtc-cu12, nvidia-cuda-cupti-cu12, nvidia-cublas-cu12, eagerpy, nvidia-cusparse-cu12, nvidia-cudnn-cu12, gitdb, nvidia-cusolver-cu12, GitPython, foolbox\n",
            "Successfully installed GitPython-3.1.43 eagerpy-0.30.0 foolbox-3.3.4 gitdb-4.0.11 nvidia-cublas-cu12-12.1.3.1 nvidia-cuda-cupti-cu12-12.1.105 nvidia-cuda-nvrtc-cu12-12.1.105 nvidia-cuda-runtime-cu12-12.1.105 nvidia-cudnn-cu12-8.9.2.26 nvidia-cufft-cu12-11.0.2.54 nvidia-curand-cu12-10.3.2.106 nvidia-cusolver-cu12-11.4.5.107 nvidia-cusparse-cu12-12.1.0.106 nvidia-nccl-cu12-2.20.5 nvidia-nvjitlink-cu12-12.5.40 nvidia-nvtx-cu12-12.1.105 smmap-5.0.1\n"
          ]
        }
      ]
    },
    {
      "cell_type": "markdown",
      "source": [
        "## Steps\n",
        "1. **Define and Train the CNN Model**: We will build a simple CNN architecture and train it on the Fashion-MNIST dataset.\n",
        "2. **Save the Model**: Once trained, we will save the model to use it for generating adversarial examples.\n",
        "3. **Apply PGD Attack**: Using CleverHans, we will apply the PGD attack to create adversarial images.\n",
        "4. **Visualize the Results**: We will compare the original images with the adversarial images and display the perturbations applied.\n",
        "\n",
        "Let's get started!"
      ],
      "metadata": {
        "id": "kg9E-oAl-jsd"
      }
    },
    {
      "cell_type": "code",
      "execution_count": 5,
      "metadata": {
        "colab": {
          "base_uri": "https://localhost:8080/"
        },
        "id": "ZaIChg4Rjx9-",
        "outputId": "fa7b9ac2-6e9e-4c01-ee4c-d6699e6dc9ec"
      },
      "outputs": [
        {
          "output_type": "stream",
          "name": "stdout",
          "text": [
            "Downloading http://fashion-mnist.s3-website.eu-central-1.amazonaws.com/train-images-idx3-ubyte.gz\n",
            "Downloading http://fashion-mnist.s3-website.eu-central-1.amazonaws.com/train-images-idx3-ubyte.gz to ./data/FashionMNIST/raw/train-images-idx3-ubyte.gz\n"
          ]
        },
        {
          "output_type": "stream",
          "name": "stderr",
          "text": [
            "100%|██████████| 26421880/26421880 [00:01<00:00, 14532760.59it/s]\n"
          ]
        },
        {
          "output_type": "stream",
          "name": "stdout",
          "text": [
            "Extracting ./data/FashionMNIST/raw/train-images-idx3-ubyte.gz to ./data/FashionMNIST/raw\n",
            "\n",
            "Downloading http://fashion-mnist.s3-website.eu-central-1.amazonaws.com/train-labels-idx1-ubyte.gz\n",
            "Downloading http://fashion-mnist.s3-website.eu-central-1.amazonaws.com/train-labels-idx1-ubyte.gz to ./data/FashionMNIST/raw/train-labels-idx1-ubyte.gz\n"
          ]
        },
        {
          "output_type": "stream",
          "name": "stderr",
          "text": [
            "100%|██████████| 29515/29515 [00:00<00:00, 233487.14it/s]\n"
          ]
        },
        {
          "output_type": "stream",
          "name": "stdout",
          "text": [
            "Extracting ./data/FashionMNIST/raw/train-labels-idx1-ubyte.gz to ./data/FashionMNIST/raw\n",
            "\n",
            "Downloading http://fashion-mnist.s3-website.eu-central-1.amazonaws.com/t10k-images-idx3-ubyte.gz\n",
            "Downloading http://fashion-mnist.s3-website.eu-central-1.amazonaws.com/t10k-images-idx3-ubyte.gz to ./data/FashionMNIST/raw/t10k-images-idx3-ubyte.gz\n"
          ]
        },
        {
          "output_type": "stream",
          "name": "stderr",
          "text": [
            "100%|██████████| 4422102/4422102 [00:01<00:00, 4271635.04it/s]\n"
          ]
        },
        {
          "output_type": "stream",
          "name": "stdout",
          "text": [
            "Extracting ./data/FashionMNIST/raw/t10k-images-idx3-ubyte.gz to ./data/FashionMNIST/raw\n",
            "\n",
            "Downloading http://fashion-mnist.s3-website.eu-central-1.amazonaws.com/t10k-labels-idx1-ubyte.gz\n",
            "Downloading http://fashion-mnist.s3-website.eu-central-1.amazonaws.com/t10k-labels-idx1-ubyte.gz to ./data/FashionMNIST/raw/t10k-labels-idx1-ubyte.gz\n"
          ]
        },
        {
          "output_type": "stream",
          "name": "stderr",
          "text": [
            "100%|██████████| 5148/5148 [00:00<00:00, 17329275.27it/s]"
          ]
        },
        {
          "output_type": "stream",
          "name": "stdout",
          "text": [
            "Extracting ./data/FashionMNIST/raw/t10k-labels-idx1-ubyte.gz to ./data/FashionMNIST/raw\n",
            "\n"
          ]
        },
        {
          "output_type": "stream",
          "name": "stderr",
          "text": [
            "\n"
          ]
        },
        {
          "output_type": "stream",
          "name": "stdout",
          "text": [
            "Epoch 1, Batch 0, Loss: 2.300626039505005\n",
            "Epoch 1, Batch 100, Loss: 0.520338773727417\n",
            "Epoch 1, Batch 200, Loss: 0.26914432644844055\n",
            "Epoch 1, Batch 300, Loss: 0.3697139024734497\n",
            "Epoch 1, Batch 400, Loss: 0.25357115268707275\n",
            "Epoch 1, Batch 500, Loss: 0.312887042760849\n",
            "Epoch 1, Batch 600, Loss: 0.21266940236091614\n",
            "Epoch 1, Batch 700, Loss: 0.19467653334140778\n",
            "Epoch 1, Batch 800, Loss: 0.29183295369148254\n",
            "Epoch 1, Batch 900, Loss: 0.20545627176761627\n",
            "Model saved as simple_cnn.pth\n"
          ]
        }
      ],
      "source": [
        "import torch\n",
        "import torchvision\n",
        "import torchvision.transforms as transforms\n",
        "import torch.optim as optim\n",
        "import matplotlib.pyplot as plt\n",
        "import numpy as np\n",
        "import foolbox as fb\n",
        "\n",
        "# Define the transformation\n",
        "transform = transforms.Compose([transforms.ToTensor(), transforms.Normalize((0.5,), (0.5,))])\n",
        "\n",
        "# Load Fashion-MNIST dataset\n",
        "trainset = torchvision.datasets.FashionMNIST(root='./data', train=True, download=True, transform=transform)\n",
        "trainloader = torch.utils.data.DataLoader(trainset, batch_size=64, shuffle=True, num_workers=2)\n",
        "\n",
        "# Define a simple CNN model\n",
        "class SimpleCNN(torch.nn.Module):\n",
        "    def __init__(self):\n",
        "        super(SimpleCNN, self).__init__()\n",
        "        self.conv1 = torch.nn.Conv2d(1, 32, 3, 1)\n",
        "        self.conv2 = torch.nn.Conv2d(32, 64, 3, 1)\n",
        "        self.fc1 = torch.nn.Linear(9216, 128)\n",
        "        self.fc2 = torch.nn.Linear(128, 10)\n",
        "\n",
        "    def forward(self, x):\n",
        "        x = torch.nn.functional.relu(self.conv1(x))\n",
        "        x = torch.nn.functional.relu(self.conv2(x))\n",
        "        x = torch.nn.functional.max_pool2d(x, 2)\n",
        "        x = torch.flatten(x, 1)\n",
        "        x = torch.nn.functional.relu(self.fc1(x))\n",
        "        x = self.fc2(x)\n",
        "        return x\n",
        "\n",
        "# Instantiate the model\n",
        "model = SimpleCNN()\n",
        "\n",
        "# Training parameters\n",
        "epochs = 1\n",
        "learning_rate = 0.001\n",
        "\n",
        "# Loss function and optimizer\n",
        "criterion = torch.nn.CrossEntropyLoss()\n",
        "optimizer = optim.Adam(model.parameters(), lr=learning_rate)\n",
        "\n",
        "# Training loop\n",
        "for epoch in range(epochs):\n",
        "    for i, data in enumerate(trainloader):\n",
        "        inputs, labels = data\n",
        "        optimizer.zero_grad()\n",
        "        outputs = model(inputs)\n",
        "        loss = criterion(outputs, labels)\n",
        "        loss.backward()\n",
        "        optimizer.step()\n",
        "        if i % 100 == 0:\n",
        "            print(f'Epoch {epoch+1}, Batch {i}, Loss: {loss.item()}')\n",
        "\n",
        "# Save the model\n",
        "torch.save(model.state_dict(), 'simple_cnn.pth')\n",
        "print(\"Model saved as simple_cnn.pth\")\n",
        "\n",
        "# Load Fashion-MNIST dataset\n",
        "trainset = torchvision.datasets.FashionMNIST(root='./data', train=True, download=True, transform=transform)\n",
        "trainloader = torch.utils.data.DataLoader(trainset, batch_size=64, shuffle=True, num_workers=2)\n",
        "testset = torchvision.datasets.FashionMNIST(root='./data', train=False, download=True, transform=transform)\n",
        "testloader = torch.utils.data.DataLoader(testset, batch_size=1, shuffle=False, num_workers=2)\n",
        "\n",
        "\n",
        "# Load the model (for attack)\n",
        "model.load_state_dict(torch.load('simple_cnn.pth'))\n",
        "model.eval()\n",
        "\n",
        "# Wrap the model with Foolbox\n",
        "fmodel = fb.PyTorchModel(model, bounds=(-1, 1))\n",
        "\n",
        "# Fetch a sample from the dataset\n",
        "images, labels = next(iter(testloader))\n",
        "images, labels = images.to(torch.device('cpu')), labels.to(torch.device('cpu'))\n",
        "\n",
        "# Run pre-attack predictions\n",
        "logits = model(images)\n",
        "pre_attack_predictions = torch.argmax(logits, axis=1)\n"
      ]
    },
    {
      "cell_type": "code",
      "source": [
        "# Apply PGD attack\n",
        "epsilon = 0.3  # Maximum perturbation\n",
        "steps = 40  # Number of attack iterations\n",
        "step_size = 0.01  # Step size\n",
        "attack = fb.attacks.LinfPGD(steps=steps, rel_stepsize=step_size/epsilon)\n",
        "raw_advs, clipped_advs, success = attack(fmodel, images, labels, epsilons=epsilon)\n",
        "\n",
        "# Run post-attack predictions\n",
        "logits_adv = model(clipped_advs)\n",
        "post_attack_predictions = torch.argmax(logits_adv, axis=1)"
      ],
      "metadata": {
        "id": "mh7PXvPn4Hhr"
      },
      "execution_count": 6,
      "outputs": []
    },
    {
      "cell_type": "code",
      "source": [
        "# Visualize pre-attack and post-attack images\n",
        "def imshow(img, title):\n",
        "    img = img / 2 + 0.5  # unnormalize\n",
        "    npimg = img.numpy()\n",
        "    plt.imshow(np.transpose(npimg, (1, 2, 0)), cmap='gray')\n",
        "    plt.title(title)\n",
        "    plt.show()\n",
        "\n",
        "# Show original image\n",
        "imshow(torchvision.utils.make_grid(images), title=f'Original Image - Predicted: {pre_attack_predictions.item()}')\n",
        "\n",
        "# Show adversarial image\n",
        "imshow(torchvision.utils.make_grid(clipped_advs), title=f'Adversarial Image - Predicted: {post_attack_predictions.item()}')"
      ],
      "metadata": {
        "colab": {
          "base_uri": "https://localhost:8080/",
          "height": 887
        },
        "id": "KNf01IDo5BhY",
        "outputId": "a45fd5ae-befc-45bc-b4e6-52d87bb6faa4"
      },
      "execution_count": 7,
      "outputs": [
        {
          "output_type": "display_data",
          "data": {
            "text/plain": [
              "<Figure size 640x480 with 1 Axes>"
            ],
            "image/png": "[encoded data removed]"
          },
          "metadata": {}
        },
        {
          "output_type": "display_data",
          "data": {
            "text/plain": [
              "<Figure size 640x480 with 1 Axes>"
            ],
            "image/png": "[encoded data removed]"
          },
          "metadata": {}
        }
      ]
    },
    {
      "cell_type": "code",
      "source": [
        "# Show original and adversarial images side by side\n",
        "plt.figure(figsize=(10, 5))\n",
        "\n",
        "# Original Image\n",
        "plt.subplot(1, 2, 1)\n",
        "imshow(torchvision.utils.make_grid(images), title=f'Original Image - Predicted: {pre_attack_predictions.item()}')\n",
        "\n",
        "# Adversarial Image\n",
        "plt.subplot(1, 2, 2)\n",
        "imshow(torchvision.utils.make_grid(clipped_advs), title=f'Adversarial Image - Predicted: {post_attack_predictions.item()}')\n",
        "\n",
        "plt.show()"
      ],
      "metadata": {
        "colab": {
          "base_uri": "https://localhost:8080/",
          "height": 726
        },
        "id": "LdrFWSIt5jYK",
        "outputId": "9d609acd-ed44-45db-87db-bfad233a1abc"
      },
      "execution_count": 8,
      "outputs": [
        {
          "output_type": "display_data",
          "data": {
            "text/plain": [
              "<Figure size 1000x500 with 1 Axes>"
            ],
            "image/png": "[encoded data removed]"
          },
          "metadata": {}
        },
        {
          "output_type": "display_data",
          "data": {
            "text/plain": [
              "<Figure size 640x480 with 1 Axes>"
            ],
            "image/png": "[encoded data removed]"
          },
          "metadata": {}
        }
      ]
    },
    {
      "cell_type": "code",
      "source": [
        "# Define class names for Fashion-MNIST\n",
        "class_names = ['T-shirt/top', 'Trouser', 'Pullover', 'Dress', 'Coat',\n",
        "               'Sandal', 'Shirt', 'Sneaker', 'Bag', 'Ankle boot']\n",
        "\n",
        "# Define a simple CNN model\n",
        "class SimpleCNN(torch.nn.Module):\n",
        "    def __init__(self):\n",
        "        super(SimpleCNN, self).__init__()\n",
        "        self.conv1 = torch.nn.Conv2d(1, 32, 3, 1)\n",
        "        self.conv2 = torch.nn.Conv2d(32, 64, 3, 1)\n",
        "        self.fc1 = torch.nn.Linear(9216, 128)\n",
        "        self.fc2 = torch.nn.Linear(128, 10)\n",
        "\n",
        "    def forward(self, x):\n",
        "        x = torch.nn.functional.relu(self.conv1(x))\n",
        "        x = torch.nn.functional.relu(self.conv2(x))\n",
        "        x = torch.nn.functional.max_pool2d(x, 2)\n",
        "        x = torch.flatten(x, 1)\n",
        "        x = torch.nn.functional.relu(self.fc1(x))\n",
        "        x = self.fc2(x)\n",
        "        return x\n",
        "\n",
        "# Define the transformation\n",
        "transform = transforms.Compose([transforms.ToTensor(), transforms.Normalize((0.5,), (0.5,))])\n",
        "\n",
        "# Load Fashion-MNIST dataset\n",
        "trainset = torchvision.datasets.FashionMNIST(root='./data', train=True, download=True, transform=transform)\n",
        "trainloader = torch.utils.data.DataLoader(trainset, batch_size=64, shuffle=True, num_workers=2)\n",
        "testset = torchvision.datasets.FashionMNIST(root='./data', train=False, download=True, transform=transform)\n",
        "testloader = torch.utils.data.DataLoader(testset, batch_size=1, shuffle=False, num_workers=2)\n",
        "\n",
        "# Instantiate the model\n",
        "model = SimpleCNN()\n",
        "\n",
        "# Training parameters\n",
        "epochs = 5\n",
        "learning_rate = 0.001\n",
        "\n",
        "# Loss function and optimizer\n",
        "criterion = torch.nn.CrossEntropyLoss()\n",
        "optimizer = optim.Adam(model.parameters(), lr=learning_rate)\n",
        "\n",
        "# Training loop\n",
        "for epoch in range(epochs):\n",
        "    for i, data in enumerate(trainloader):\n",
        "        inputs, labels = data\n",
        "        optimizer.zero_grad()\n",
        "        outputs = model(inputs)\n",
        "        loss = criterion(outputs, labels)\n",
        "        loss.backward()\n",
        "        optimizer.step()\n",
        "        if i % 100 == 0:\n",
        "            print(f'Epoch {epoch+1}, Batch {i}, Loss: {loss.item()}')\n",
        "\n",
        "# Save the model\n",
        "torch.save(model.state_dict(), 'simple_cnn.pth')\n",
        "print(\"Model saved as simple_cnn.pth\")\n",
        "\n",
        "# Load the model (for attack)\n",
        "model.load_state_dict(torch.load('simple_cnn.pth'))\n",
        "model.eval()\n",
        "\n",
        "# Wrap the model with Foolbox\n",
        "fmodel = fb.PyTorchModel(model, bounds=(-1, 1))\n",
        "\n",
        "# Fetch a sample from the dataset\n",
        "images, labels = next(iter(testloader))\n",
        "images, labels = images.to(torch.device('cpu')), labels.to(torch.device('cpu'))\n",
        "\n",
        "# Run pre-attack predictions\n",
        "logits = model(images)\n",
        "pre_attack_predictions = torch.argmax(logits, axis=1)\n",
        "\n",
        "# Apply PGD attack\n",
        "epsilon = 0.3  # Maximum perturbation\n",
        "steps = 40  # Number of attack iterations\n",
        "step_size = 0.01  # Step size\n",
        "attack = fb.attacks.LinfPGD(steps=steps, rel_stepsize=step_size/epsilon)\n",
        "raw_advs, clipped_advs, success = attack(fmodel, images, labels, epsilons=epsilon)\n",
        "\n",
        "# Run post-attack predictions\n",
        "logits_adv = model(clipped_advs)\n",
        "post_attack_predictions = torch.argmax(logits_adv, axis=1)\n",
        "\n",
        "# Visualize pre-attack and post-attack images, and the perturbation\n",
        "def imshow(img, title):\n",
        "    img = img / 2 + 0.5  # unnormalize\n",
        "    npimg = img.numpy()\n",
        "    plt.imshow(np.transpose(npimg, (1, 2, 0)), cmap='gray')\n",
        "    plt.title(title)\n",
        "    plt.axis('off')\n",
        "\n",
        "# Calculate perturbation\n",
        "perturbation = clipped_advs - images\n",
        "\n",
        "# Show original, adversarial, and perturbation images side by side\n",
        "plt.figure(figsize=(15, 5))\n",
        "\n",
        "# Original Image\n",
        "plt.subplot(1, 3, 1)\n",
        "imshow(torchvision.utils.make_grid(images),\n",
        "       title=f'Original Image\\nPredicted: {class_names[pre_attack_predictions.item()]}')\n",
        "\n",
        "# Adversarial Image\n",
        "plt.subplot(1, 3, 2)\n",
        "imshow(torchvision.utils.make_grid(clipped_advs),\n",
        "       title=f'Adversarial Image\\nPredicted: {class_names[post_attack_predictions.item()]}')\n",
        "\n",
        "# Perturbation\n",
        "plt.subplot(1, 3, 3)\n",
        "imshow(torchvision.utils.make_grid(perturbation),\n",
        "       title='Perturbation')\n",
        "\n",
        "plt.tight_layout()\n",
        "plt.show()"
      ],
      "metadata": {
        "colab": {
          "base_uri": "https://localhost:8080/",
          "height": 1000
        },
        "id": "ol1ZF59i6ciV",
        "outputId": "c08bd403-aa96-4e21-8d94-ac2f2a315f2f"
      },
      "execution_count": 9,
      "outputs": [
        {
          "output_type": "stream",
          "name": "stdout",
          "text": [
            "Epoch 1, Batch 0, Loss: 2.296656608581543\n",
            "Epoch 1, Batch 100, Loss: 0.39042314887046814\n",
            "Epoch 1, Batch 200, Loss: 0.3779434859752655\n",
            "Epoch 1, Batch 300, Loss: 0.3852786719799042\n",
            "Epoch 1, Batch 400, Loss: 0.5000240802764893\n",
            "Epoch 1, Batch 500, Loss: 0.35985273122787476\n",
            "Epoch 1, Batch 600, Loss: 0.15526056289672852\n",
            "Epoch 1, Batch 700, Loss: 0.24967624247074127\n",
            "Epoch 1, Batch 800, Loss: 0.20256316661834717\n",
            "Epoch 1, Batch 900, Loss: 0.19634827971458435\n",
            "Epoch 2, Batch 0, Loss: 0.2144239991903305\n",
            "Epoch 2, Batch 100, Loss: 0.12197723239660263\n",
            "Epoch 2, Batch 200, Loss: 0.28020578622817993\n",
            "Epoch 2, Batch 300, Loss: 0.2618730366230011\n",
            "Epoch 2, Batch 400, Loss: 0.25029677152633667\n",
            "Epoch 2, Batch 500, Loss: 0.2780311703681946\n",
            "Epoch 2, Batch 600, Loss: 0.26904064416885376\n",
            "Epoch 2, Batch 700, Loss: 0.319731205701828\n",
            "Epoch 2, Batch 800, Loss: 0.23625090718269348\n",
            "Epoch 2, Batch 900, Loss: 0.24241939187049866\n",
            "Epoch 3, Batch 0, Loss: 0.12735594809055328\n",
            "Epoch 3, Batch 100, Loss: 0.19723215699195862\n",
            "Epoch 3, Batch 200, Loss: 0.10446468740701675\n",
            "Epoch 3, Batch 300, Loss: 0.1587987244129181\n",
            "Epoch 3, Batch 400, Loss: 0.12671366333961487\n",
            "Epoch 3, Batch 500, Loss: 0.2938710153102875\n",
            "Epoch 3, Batch 600, Loss: 0.0937255471944809\n",
            "Epoch 3, Batch 700, Loss: 0.12485065311193466\n",
            "Epoch 3, Batch 800, Loss: 0.28839680552482605\n",
            "Epoch 3, Batch 900, Loss: 0.1484883725643158\n",
            "Epoch 4, Batch 0, Loss: 0.2050270438194275\n",
            "Epoch 4, Batch 100, Loss: 0.16057701408863068\n",
            "Epoch 4, Batch 200, Loss: 0.16644619405269623\n",
            "Epoch 4, Batch 300, Loss: 0.06182184815406799\n",
            "Epoch 4, Batch 400, Loss: 0.18925563991069794\n",
            "Epoch 4, Batch 500, Loss: 0.08876212686300278\n",
            "Epoch 4, Batch 600, Loss: 0.16224606335163116\n",
            "Epoch 4, Batch 700, Loss: 0.19178444147109985\n",
            "Epoch 4, Batch 800, Loss: 0.15061908960342407\n",
            "Epoch 4, Batch 900, Loss: 0.13891805708408356\n",
            "Epoch 5, Batch 0, Loss: 0.1215435042977333\n",
            "Epoch 5, Batch 100, Loss: 0.143593892455101\n",
            "Epoch 5, Batch 200, Loss: 0.12164509296417236\n",
            "Epoch 5, Batch 300, Loss: 0.07234460860490799\n",
            "Epoch 5, Batch 400, Loss: 0.04571932554244995\n",
            "Epoch 5, Batch 500, Loss: 0.05723124369978905\n",
            "Epoch 5, Batch 600, Loss: 0.04909208416938782\n",
            "Epoch 5, Batch 700, Loss: 0.06702261418104172\n",
            "Epoch 5, Batch 800, Loss: 0.0379745252430439\n",
            "Epoch 5, Batch 900, Loss: 0.13967715203762054\n",
            "Model saved as simple_cnn.pth\n"
          ]
        },
        {
          "output_type": "display_data",
          "data": {
            "text/plain": [
              "<Figure size 1500x500 with 3 Axes>"
            ],
            "image/png": "[encoded data removed]"
          },
          "metadata": {}
        }
      ]
    }
  ]
}